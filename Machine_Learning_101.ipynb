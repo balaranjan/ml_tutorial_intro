{
 "cells": [
  {
   "cell_type": "markdown",
   "metadata": {},
   "source": [
    "# Machine Learning 101\n",
    "\n",
    "This is a jump start exercise in machine learning using TensorFlow 2.0. In this exercise, we will build, train, and valdate a Neural Network model which will say whether a given image is of a Cat or not!"
   ]
  },
  {
   "cell_type": "markdown",
   "metadata": {},
   "source": [
    "## Install the necessary packages.\n",
    "\n",
    "Python packages can be installed by pip. To install a package, type \"pip install package_name\" at the terminal. \n",
    "\n",
    "You can execute commands on terminal from Jupyter notebook simply by prepending ! to the command.\n",
    "\n",
    "Warning: Do not run Jupyter Notebooks from untrusted sources."
   ]
  },
  {
   "cell_type": "code",
   "execution_count": null,
   "metadata": {},
   "outputs": [],
   "source": [
    "!pip install numpy h5py matplotlib scikit-learn"
   ]
  },
  {
   "cell_type": "markdown",
   "metadata": {},
   "source": [
    "Import the necessary libraries"
   ]
  },
  {
   "cell_type": "code",
   "execution_count": null,
   "metadata": {},
   "outputs": [],
   "source": [
    "import tensorflow as tf\n",
    "from tensorflow.keras.models import Sequential\n",
    "from tensorflow.keras.layers import Dense, Dropout\n",
    "import numpy as np\n",
    "import h5py\n",
    "import matplotlib\n",
    "%matplotlib inline\n",
    "import matplotlib.pyplot as plt\n",
    "from sklearn.metrics import accuracy_score"
   ]
  },
  {
   "cell_type": "code",
   "execution_count": null,
   "metadata": {},
   "outputs": [],
   "source": [
    "# load data\n",
    "train = h5py.File('data/cat/train_catvnoncat.h5', 'r')\n",
    "x_train = np.array(train[\"train_set_x\"][:])\n",
    "y_train = np.array(train[\"train_set_y\"][:])\n",
    "\n",
    "test = h5py.File('data/cat/test_catvnoncat.h5', 'r')\n",
    "x_test = np.array(test[\"test_set_x\"][:])\n",
    "y_test = np.array(test[\"test_set_y\"][:])"
   ]
  },
  {
   "cell_type": "markdown",
   "metadata": {},
   "source": [
    "### Explore the data"
   ]
  },
  {
   "cell_type": "code",
   "execution_count": null,
   "metadata": {},
   "outputs": [],
   "source": [
    "print('Number of training examples: {}'.format(x_train.shape[0]))\n",
    "print('Number of test examples: {}'.format(x_test.shape[0]))\n",
    "print('Dimension of an image is: {}'.format(x_train[0].shape))\n",
    "print('Shape of train set features : {}'.format(x_train.shape))\n",
    "print('Shape of train set values : {}'.format(y_train.shape))\n",
    "print('Shape of test set features : {}'.format(x_test.shape))\n",
    "print('Shape of test set values : {}'.format(y_test.shape))"
   ]
  },
  {
   "cell_type": "code",
   "execution_count": null,
   "metadata": {},
   "outputs": [],
   "source": [
    "def plot_images(images_arr, labels_arr):\n",
    "    \"\"\"\n",
    "    This function will plot images in the form of a grid with 1 row and 5 columns \n",
    "    where images are placed in each column.\n",
    "    \n",
    "    credits to TensorFlow Team\n",
    "    https://www.tensorflow.org/tutorials/images/classification\n",
    "    \"\"\"\n",
    "    fig, axes = plt.subplots(1, 5, figsize=(20,20))\n",
    "    axes = axes.flatten()\n",
    "    for img, label, ax in zip(images_arr, labels_arr, axes):\n",
    "        ax.imshow(img)\n",
    "        ax.axis('off')\n",
    "        ax.set_title('Cat' if label else \"Not a Cat\")\n",
    "    plt.show()\n"
   ]
  },
  {
   "cell_type": "code",
   "execution_count": null,
   "metadata": {},
   "outputs": [],
   "source": [
    "plot_images(x_train[:5], y_train[:5])"
   ]
  },
  {
   "cell_type": "code",
   "execution_count": null,
   "metadata": {},
   "outputs": [],
   "source": [
    "# reshape data\n",
    "image_flat_dim = 64 * 64 * 3\n",
    "\n",
    "x_train = x_train.reshape(-1, image_flat_dim)/255  # Normalize and reshape the input\n",
    "y_train = y_train.reshape(-1, 1)\n",
    "\n",
    "x_test = x_test.reshape(-1, image_flat_dim)/255\n",
    "y_test = y_test.reshape(-1, 1)"
   ]
  },
  {
   "cell_type": "code",
   "execution_count": null,
   "metadata": {},
   "outputs": [],
   "source": [
    "print('Number of training examples: {}'.format(x_train.shape[0]))\n",
    "print('Number of test examples: {}'.format(x_test.shape[0]))\n",
    "print('Dimension of an image is: {}'.format(x_train[0].shape))\n",
    "print('Shape of train set features : {}'.format(x_train.shape))\n",
    "print('Shape of train set values : {}'.format(y_train.shape))\n",
    "print('Shape of test set features : {}'.format(x_test.shape))\n",
    "print('Shape of test set values : {}'.format(y_test.shape))"
   ]
  },
  {
   "cell_type": "markdown",
   "metadata": {},
   "source": [
    "## Create and train model"
   ]
  },
  {
   "cell_type": "markdown",
   "metadata": {},
   "source": [
    "The model consists of two hidden layers with 128 neurons in each layer. Relu activation function is used for the hidden layers and sigmoid is used for output layer."
   ]
  },
  {
   "cell_type": "code",
   "execution_count": null,
   "metadata": {},
   "outputs": [],
   "source": [
    "model = Sequential([\n",
    "    Dense(32, input_shape=(image_flat_dim,), activation='relu'),\n",
    "    Dense(16, activation='relu'),\n",
    "    Dense(4, activation='relu'),\n",
    "    Dense(1, activation='sigmoid')\n",
    "])"
   ]
  },
  {
   "cell_type": "markdown",
   "metadata": {},
   "source": [
    "## Compile the model\n",
    "For this model, we will use SGD as the optimizer with default learing rate of 0.001. Binary cross entropy is used as loss function."
   ]
  },
  {
   "cell_type": "code",
   "execution_count": null,
   "metadata": {
    "scrolled": true
   },
   "outputs": [],
   "source": [
    "model.compile(optimizer='adam',\n",
    "              loss='binary_crossentropy',\n",
    "              metrics=['accuracy'])\n",
    "\n",
    "# print summary \n",
    "model.summary()"
   ]
  },
  {
   "cell_type": "markdown",
   "metadata": {},
   "source": [
    "### Fit the model"
   ]
  },
  {
   "cell_type": "code",
   "execution_count": null,
   "metadata": {},
   "outputs": [],
   "source": [
    "epochs = 2500\n",
    "history = model.fit(x_train, y_train, epochs=epochs, verbose=2)"
   ]
  },
  {
   "cell_type": "markdown",
   "metadata": {},
   "source": [
    "### Visulaizing the training results"
   ]
  },
  {
   "cell_type": "code",
   "execution_count": null,
   "metadata": {},
   "outputs": [],
   "source": [
    "acc = history.history['accuracy']\n",
    "\n",
    "loss = history.history['loss']\n",
    "\n",
    "epochs_range = range(epochs)\n",
    "\n",
    "plt.figure(figsize=(8, 8))\n",
    "plt.subplot(1, 2, 1)\n",
    "plt.plot(epochs_range, acc, label='Training Accuracy')\n",
    "plt.legend(loc='lower right')\n",
    "plt.title('Training Accuracy')\n",
    "\n",
    "plt.subplot(1, 2, 2)\n",
    "plt.plot(epochs_range, loss, label='Training Loss')\n",
    "plt.legend(loc='upper right')\n",
    "plt.title('Training Loss')\n",
    "plt.show()\n"
   ]
  },
  {
   "cell_type": "markdown",
   "metadata": {},
   "source": [
    "### Predict "
   ]
  },
  {
   "cell_type": "code",
   "execution_count": null,
   "metadata": {},
   "outputs": [],
   "source": [
    "y_pred = model.predict(x_test) > 0.5"
   ]
  },
  {
   "cell_type": "code",
   "execution_count": null,
   "metadata": {},
   "outputs": [],
   "source": [
    "print(y_pred[:5])"
   ]
  },
  {
   "cell_type": "code",
   "execution_count": null,
   "metadata": {},
   "outputs": [],
   "source": [
    "print(\"Accuracy of prediction is: {}\".format(accuracy_score(y_test, y_pred)))"
   ]
  },
  {
   "cell_type": "code",
   "execution_count": null,
   "metadata": {},
   "outputs": [],
   "source": [
    "def plot_images(images_arr, labels_arr_true, labels_arr_pred):\n",
    "    \"\"\"\n",
    "    This function will plot images in the form of a grid with 1 row and 5 columns \n",
    "    where images are placed in each column.\n",
    "    \n",
    "    credits to TensorFlow Team\n",
    "    https://www.tensorflow.org/tutorials/images/classification\n",
    "    \"\"\"\n",
    "    fig, axes = plt.subplots(1, 5, figsize=(20,20))\n",
    "    axes = axes.flatten()\n",
    "    for img, lbl_true, lbl_pred, ax in zip(images_arr, labels_arr_true, labels_arr_pred, axes):\n",
    "        img = np.reshape(img, (64, 64, 3))\n",
    "        ax.imshow(img)\n",
    "        ax.axis('off')\n",
    "        ax.set_title('{0}, {1}'.format('Cat' if lbl_pred else 'Not a Cat', 'Cat' if lbl_true else 'Not a Cat'),\n",
    "                    color='g' if lbl_pred==lbl_true else 'r')\n",
    "    plt.show()"
   ]
  },
  {
   "cell_type": "code",
   "execution_count": null,
   "metadata": {},
   "outputs": [],
   "source": [
    "inds = np.random.choice(np.arange(50), 5)\n",
    "print(inds)\n",
    "plot_images(x_test[inds], labels_arr_true=y_test[inds], labels_arr_pred=y_pred[inds])"
   ]
  },
  {
   "cell_type": "markdown",
   "metadata": {},
   "source": [
    "Since there are only 50 images in the test set, lets print them all."
   ]
  },
  {
   "cell_type": "code",
   "execution_count": null,
   "metadata": {},
   "outputs": [],
   "source": [
    "for i in range(10):\n",
    "    inds = np.arange(i*5, (i*5)+5)\n",
    "    plot_images(x_test[inds], labels_arr_true=y_test[inds], labels_arr_pred=y_pred[inds])"
   ]
  }
 ],
 "metadata": {
  "kernelspec": {
   "display_name": "Python 3",
   "language": "python",
   "name": "python3"
  },
  "language_info": {
   "codemirror_mode": {
    "name": "ipython",
    "version": 3
   },
   "file_extension": ".py",
   "mimetype": "text/x-python",
   "name": "python",
   "nbconvert_exporter": "python",
   "pygments_lexer": "ipython3",
   "version": "3.6.9"
  }
 },
 "nbformat": 4,
 "nbformat_minor": 2
}
