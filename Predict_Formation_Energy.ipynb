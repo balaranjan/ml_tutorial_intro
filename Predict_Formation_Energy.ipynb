{
 "cells": [
  {
   "cell_type": "markdown",
   "metadata": {},
   "source": [
    "# Prediction of Formation Energy of Solids Using Neural Network\n",
    "\n",
    "\n",
    "This work was reported by Jha *et al.*[1] and in this exercise, we will implement, train, and validate a model to predict the formation energy of given solid using its formula as the input.\n",
    "\n",
    "\n",
    "1. Jha, D., Ward, L., Paul, A., Liao, W.-K., Choudhary, A., Wolverton, C., & Agrawal, A. **(2018)**. ElemNet : Deep Learning the Chemistry of Materials From Only Elemental Composition. Scientific Reports, 8(1), 17593. http://doi.org/10.1038/s41598-018-35934-y"
   ]
  },
  {
   "cell_type": "markdown",
   "metadata": {},
   "source": [
    "## Setup Runtime Install necessary packages\n",
    "\n",
    "Set runtime to GPU.\n",
    "Clone the repo."
   ]
  },
  {
   "cell_type": "code",
   "execution_count": 1,
   "metadata": {},
   "outputs": [
    {
     "name": "stdout",
     "output_type": "stream",
     "text": [
      "Requirement already satisfied: numpy in /home/bala/anaconda3/envs/tf20/lib/python3.6/site-packages (1.17.3)\n",
      "Requirement already satisfied: matplotlib in /home/bala/anaconda3/envs/tf20/lib/python3.6/site-packages (3.1.1)\n",
      "Requirement already satisfied: pandas in /home/bala/anaconda3/envs/tf20/lib/python3.6/site-packages (0.25.2)\n",
      "Requirement already satisfied: scikit-learn in /home/bala/anaconda3/envs/tf20/lib/python3.6/site-packages (0.21.3)\n",
      "Requirement already satisfied: tensorflow in /home/bala/anaconda3/envs/tf20/lib/python3.6/site-packages (2.0.0)\n",
      "Requirement already satisfied: cycler>=0.10 in /home/bala/anaconda3/envs/tf20/lib/python3.6/site-packages (from matplotlib) (0.10.0)\n",
      "Requirement already satisfied: kiwisolver>=1.0.1 in /home/bala/anaconda3/envs/tf20/lib/python3.6/site-packages (from matplotlib) (1.1.0)\n",
      "Requirement already satisfied: pyparsing!=2.0.4,!=2.1.2,!=2.1.6,>=2.0.1 in /home/bala/anaconda3/envs/tf20/lib/python3.6/site-packages (from matplotlib) (2.4.4)\n",
      "Requirement already satisfied: python-dateutil>=2.1 in /home/bala/anaconda3/envs/tf20/lib/python3.6/site-packages (from matplotlib) (2.8.1)\n",
      "Requirement already satisfied: pytz>=2017.2 in /home/bala/anaconda3/envs/tf20/lib/python3.6/site-packages (from pandas) (2019.3)\n",
      "Requirement already satisfied: joblib>=0.11 in /home/bala/anaconda3/envs/tf20/lib/python3.6/site-packages (from scikit-learn) (0.14.0)\n",
      "Requirement already satisfied: scipy>=0.17.0 in /home/bala/anaconda3/envs/tf20/lib/python3.6/site-packages (from scikit-learn) (1.3.1)\n",
      "Requirement already satisfied: absl-py>=0.7.0 in /home/bala/anaconda3/envs/tf20/lib/python3.6/site-packages (from tensorflow) (0.8.1)\n",
      "Requirement already satisfied: gast==0.2.2 in /home/bala/anaconda3/envs/tf20/lib/python3.6/site-packages (from tensorflow) (0.2.2)\n",
      "Requirement already satisfied: keras-preprocessing>=1.0.5 in /home/bala/anaconda3/envs/tf20/lib/python3.6/site-packages (from tensorflow) (1.1.0)\n",
      "Requirement already satisfied: protobuf>=3.6.1 in /home/bala/anaconda3/envs/tf20/lib/python3.6/site-packages (from tensorflow) (3.9.2)\n",
      "Requirement already satisfied: keras-applications>=1.0.8 in /home/bala/anaconda3/envs/tf20/lib/python3.6/site-packages (from tensorflow) (1.0.8)\n",
      "Requirement already satisfied: termcolor>=1.1.0 in /home/bala/anaconda3/envs/tf20/lib/python3.6/site-packages (from tensorflow) (1.1.0)\n",
      "Requirement already satisfied: grpcio>=1.8.6 in /home/bala/anaconda3/envs/tf20/lib/python3.6/site-packages (from tensorflow) (1.16.1)\n",
      "Requirement already satisfied: wheel>=0.26 in /home/bala/anaconda3/envs/tf20/lib/python3.6/site-packages (from tensorflow) (0.33.6)\n",
      "Requirement already satisfied: six>=1.10.0 in /home/bala/anaconda3/envs/tf20/lib/python3.6/site-packages (from tensorflow) (1.13.0)\n",
      "Requirement already satisfied: tensorflow-estimator<2.1.0,>=2.0.0 in /home/bala/anaconda3/envs/tf20/lib/python3.6/site-packages (from tensorflow) (2.0.0)\n",
      "Requirement already satisfied: wrapt>=1.11.1 in /home/bala/anaconda3/envs/tf20/lib/python3.6/site-packages (from tensorflow) (1.11.2)\n",
      "Requirement already satisfied: opt-einsum>=2.3.2 in /home/bala/anaconda3/envs/tf20/lib/python3.6/site-packages (from tensorflow) (3.1.0)\n",
      "Requirement already satisfied: google-pasta>=0.1.6 in /home/bala/anaconda3/envs/tf20/lib/python3.6/site-packages (from tensorflow) (0.1.7)\n",
      "Requirement already satisfied: astor>=0.6.0 in /home/bala/anaconda3/envs/tf20/lib/python3.6/site-packages (from tensorflow) (0.8.0)\n",
      "Requirement already satisfied: tensorboard<2.1.0,>=2.0.0 in /home/bala/anaconda3/envs/tf20/lib/python3.6/site-packages (from tensorflow) (2.0.0)\n",
      "Requirement already satisfied: setuptools in /home/bala/anaconda3/envs/tf20/lib/python3.6/site-packages (from kiwisolver>=1.0.1->matplotlib) (41.6.0.post20191030)\n",
      "Requirement already satisfied: h5py in /home/bala/anaconda3/envs/tf20/lib/python3.6/site-packages (from keras-applications>=1.0.8->tensorflow) (2.9.0)\n",
      "Requirement already satisfied: markdown>=2.6.8 in /home/bala/anaconda3/envs/tf20/lib/python3.6/site-packages (from tensorboard<2.1.0,>=2.0.0->tensorflow) (3.1.1)\n",
      "Requirement already satisfied: werkzeug>=0.11.15 in /home/bala/anaconda3/envs/tf20/lib/python3.6/site-packages (from tensorboard<2.1.0,>=2.0.0->tensorflow) (0.16.0)\n"
     ]
    }
   ],
   "source": [
    "!pip install numpy matplotlib pandas scikit-learn tensorflow-gpu==2.0"
   ]
  },
  {
   "cell_type": "code",
   "execution_count": 2,
   "metadata": {},
   "outputs": [],
   "source": [
    "# import\n",
    "import tensorflow as tf\n",
    "from tensorflow.keras.models import Sequential\n",
    "from tensorflow.keras.layers import Dense, Dropout\n",
    "from sklearn.model_selection import train_test_split\n",
    "from sklearn.metrics import mean_squared_error, mean_absolute_error\n",
    "import pandas as pd\n",
    "import numpy as np\n",
    "import re\n",
    "import matplotlib\n",
    "%matplotlib inline\n",
    "import matplotlib.pyplot as plt"
   ]
  },
  {
   "cell_type": "markdown",
   "metadata": {},
   "source": [
    "## Descriptor\n",
    "\n",
    "The descriptor is the composition of the given system. The discriptor will be an array of length 86 (dataset contains only 86 elements)."
   ]
  },
  {
   "cell_type": "markdown",
   "metadata": {},
   "source": [
    "### Load data"
   ]
  },
  {
   "cell_type": "code",
   "execution_count": 3,
   "metadata": {},
   "outputs": [
    {
     "data": {
      "text/html": [
       "<div>\n",
       "<style scoped>\n",
       "    .dataframe tbody tr th:only-of-type {\n",
       "        vertical-align: middle;\n",
       "    }\n",
       "\n",
       "    .dataframe tbody tr th {\n",
       "        vertical-align: top;\n",
       "    }\n",
       "\n",
       "    .dataframe thead th {\n",
       "        text-align: right;\n",
       "    }\n",
       "</style>\n",
       "<table border=\"1\" class=\"dataframe\">\n",
       "  <thead>\n",
       "    <tr style=\"text-align: right;\">\n",
       "      <th></th>\n",
       "      <th>formula</th>\n",
       "      <th>energy</th>\n",
       "    </tr>\n",
       "  </thead>\n",
       "  <tbody>\n",
       "    <tr>\n",
       "      <th>0</th>\n",
       "      <td>Ge4Mg2O12Sn2</td>\n",
       "      <td>-2.167457</td>\n",
       "    </tr>\n",
       "    <tr>\n",
       "      <th>1</th>\n",
       "      <td>Cr6O16</td>\n",
       "      <td>-1.338311</td>\n",
       "    </tr>\n",
       "    <tr>\n",
       "      <th>2</th>\n",
       "      <td>AlBa2Fe3O8</td>\n",
       "      <td>-2.265546</td>\n",
       "    </tr>\n",
       "    <tr>\n",
       "      <th>3</th>\n",
       "      <td>Mg2Mo3O8</td>\n",
       "      <td>-2.300022</td>\n",
       "    </tr>\n",
       "    <tr>\n",
       "      <th>4</th>\n",
       "      <td>BiF6Mg</td>\n",
       "      <td>-2.932162</td>\n",
       "    </tr>\n",
       "  </tbody>\n",
       "</table>\n",
       "</div>"
      ],
      "text/plain": [
       "        formula    energy\n",
       "0  Ge4Mg2O12Sn2 -2.167457\n",
       "1        Cr6O16 -1.338311\n",
       "2    AlBa2Fe3O8 -2.265546\n",
       "3      Mg2Mo3O8 -2.300022\n",
       "4        BiF6Mg -2.932162"
      ]
     },
     "execution_count": 3,
     "metadata": {},
     "output_type": "execute_result"
    }
   ],
   "source": [
    "df = pd.read_csv('data/inorg/mp.csv')\n",
    "df.head()"
   ]
  },
  {
   "cell_type": "code",
   "execution_count": 4,
   "metadata": {},
   "outputs": [
    {
     "data": {
      "text/plain": [
       "<matplotlib.axes._subplots.AxesSubplot at 0x7fd74b3c34e0>"
      ]
     },
     "execution_count": 4,
     "metadata": {},
     "output_type": "execute_result"
    },
    {
     "data": {
      "image/png": "[encoded data removed]",
      "text/plain": [
       "<Figure size 432x288 with 1 Axes>"
      ]
     },
     "metadata": {
      "needs_background": "light"
     },
     "output_type": "display_data"
    }
   ],
   "source": [
    "# visulaize the energy histogram\n",
    "df['energy'].hist(bins=50)"
   ]
  },
  {
   "cell_type": "markdown",
   "metadata": {},
   "source": [
    "### Calculate Descriptor"
   ]
  },
  {
   "cell_type": "code",
   "execution_count": 5,
   "metadata": {},
   "outputs": [
    {
     "data": {
      "text/plain": [
       "{'Ge': 4, 'Mg': 2, 'O': 12, 'Sn': 2}"
      ]
     },
     "execution_count": 5,
     "metadata": {},
     "output_type": "execute_result"
    }
   ],
   "source": [
    "def parse_formula(formula):\n",
    "    \n",
    "    split = re.findall('[A-Z][^A-Z]*', formula)\n",
    "    result = {}\n",
    "    for el in split:\n",
    "        head = el.rstrip('0123456789')\n",
    "        tail = el[len(head):]\n",
    "        result[head] = int(tail) if tail != '' else 1\n",
    "    \n",
    "    return result\n",
    "    \n",
    "parse_formula('Ge4Mg2O12Sn2')"
   ]
  },
  {
   "cell_type": "code",
   "execution_count": 6,
   "metadata": {},
   "outputs": [],
   "source": [
    "# build template for descriptor\n",
    "elements = ['H', 'Li', 'Be', 'B', 'C', 'N', 'O', 'F', 'Na', 'Mg', 'Al', 'Si', 'P', 'S', 'Cl', 'K', 'Ca', 'Sc', 'Ti', 'V', \n",
    "            'Cr', 'Mn', 'Fe', 'Co', 'Ni', 'Cu', 'Zn', 'Ga', 'Ge', 'As', 'Se', 'Br', 'Kr', 'Rb', 'Sr', 'Y', 'Zr', 'Nb', \n",
    "            'Mo', 'Tc', 'Ru', 'Rh', 'Pd', 'Ag', 'Cd', 'In', 'Sn', 'Sb', 'Te', 'I', 'Xe', 'Cs', 'Ba', 'La', 'Ce', 'Pr', \n",
    "            'Nd', 'Pm', 'Sm', 'Eu', 'Gd', 'Tb', 'Dy', 'Ho', 'Er', 'Tm', 'Yb', 'Lu', 'Hf', 'Ta', 'W', 'Re', 'Os', 'Ir', \n",
    "            'Pt', 'Au', 'Hg', 'Tl', 'Pb', 'Bi', 'Ac', 'Th', 'Pa', 'U', 'Np', 'Pu']\n",
    "desc_positions = dict(zip(elements, range(len(elements))))"
   ]
  },
  {
   "cell_type": "code",
   "execution_count": 7,
   "metadata": {},
   "outputs": [
    {
     "name": "stdout",
     "output_type": "stream",
     "text": [
      "{'H': 0, 'Li': 1, 'Be': 2, 'B': 3, 'C': 4, 'N': 5, 'O': 6, 'F': 7, 'Na': 8, 'Mg': 9, 'Al': 10, 'Si': 11, 'P': 12, 'S': 13, 'Cl': 14, 'K': 15, 'Ca': 16, 'Sc': 17, 'Ti': 18, 'V': 19, 'Cr': 20, 'Mn': 21, 'Fe': 22, 'Co': 23, 'Ni': 24, 'Cu': 25, 'Zn': 26, 'Ga': 27, 'Ge': 28, 'As': 29, 'Se': 30, 'Br': 31, 'Kr': 32, 'Rb': 33, 'Sr': 34, 'Y': 35, 'Zr': 36, 'Nb': 37, 'Mo': 38, 'Tc': 39, 'Ru': 40, 'Rh': 41, 'Pd': 42, 'Ag': 43, 'Cd': 44, 'In': 45, 'Sn': 46, 'Sb': 47, 'Te': 48, 'I': 49, 'Xe': 50, 'Cs': 51, 'Ba': 52, 'La': 53, 'Ce': 54, 'Pr': 55, 'Nd': 56, 'Pm': 57, 'Sm': 58, 'Eu': 59, 'Gd': 60, 'Tb': 61, 'Dy': 62, 'Ho': 63, 'Er': 64, 'Tm': 65, 'Yb': 66, 'Lu': 67, 'Hf': 68, 'Ta': 69, 'W': 70, 'Re': 71, 'Os': 72, 'Ir': 73, 'Pt': 74, 'Au': 75, 'Hg': 76, 'Tl': 77, 'Pb': 78, 'Bi': 79, 'Ac': 80, 'Th': 81, 'Pa': 82, 'U': 83, 'Np': 84, 'Pu': 85}\n"
     ]
    }
   ],
   "source": [
    "print(desc_positions)"
   ]
  },
  {
   "cell_type": "code",
   "execution_count": 8,
   "metadata": {},
   "outputs": [],
   "source": [
    "def get_descriptor(formula):\n",
    "    \n",
    "    elem_counts = parse_formula(formula)\n",
    "    desc = np.zeros(shape=86)\n",
    "    for k, v in elem_counts.items():\n",
    "        desc[desc_positions.get(k)] = v\n",
    "        \n",
    "    return desc"
   ]
  },
  {
   "cell_type": "code",
   "execution_count": 9,
   "metadata": {},
   "outputs": [
    {
     "name": "stdout",
     "output_type": "stream",
     "text": [
      "[ 0.  0.  0.  0.  0.  0. 12.  0.  0.  2.  0.  0.  0.  0.  0.  0.  0.  0.\n",
      "  0.  0.  0.  0.  0.  0.  0.  0.  0.  0.  4.  0.  0.  0.  0.  0.  0.  0.\n",
      "  0.  0.  0.  0.  0.  0.  0.  0.  0.  0.  2.  0.  0.  0.  0.  0.  0.  0.\n",
      "  0.  0.  0.  0.  0.  0.  0.  0.  0.  0.  0.  0.  0.  0.  0.  0.  0.  0.\n",
      "  0.  0.  0.  0.  0.  0.  0.  0.  0.  0.  0.  0.  0.  0.]\n"
     ]
    }
   ],
   "source": [
    "print(get_descriptor('Ge4Mg2O12Sn2'))"
   ]
  },
  {
   "cell_type": "code",
   "execution_count": 10,
   "metadata": {},
   "outputs": [
    {
     "name": "stdout",
     "output_type": "stream",
     "text": [
      "(67847, 86)\n",
      "(67847,)\n"
     ]
    }
   ],
   "source": [
    "# get datasets\n",
    "x = []\n",
    "y = []\n",
    "\n",
    "for row in df.itertuples():\n",
    "    x.append(get_descriptor(row.formula))\n",
    "    y.append(float(row.energy))\n",
    "\n",
    "x = np.stack(x)\n",
    "y = np.array(y)\n",
    "\n",
    "print(x.shape)\n",
    "print(y.shape)"
   ]
  },
  {
   "cell_type": "code",
   "execution_count": 11,
   "metadata": {},
   "outputs": [
    {
     "name": "stdout",
     "output_type": "stream",
     "text": [
      "(54277, 86)\n",
      "(13570, 86)\n"
     ]
    }
   ],
   "source": [
    "# train test split\n",
    "X_train, X_test, y_train, y_test = train_test_split(x, y, test_size=0.2, random_state=35)\n",
    "\n",
    "print(X_train.shape)\n",
    "print(X_test.shape)"
   ]
  },
  {
   "cell_type": "markdown",
   "metadata": {},
   "source": [
    "## Model\n",
    "\n",
    "We will start with a model with four hidden layers with [256, 128, 64, 32] neurons. We will use relu activations, ADAM optimizer and mean squared error for loss function.\n",
    "\n",
    "Architecture used in the paper is 1024x4-512x3-256x3-128x3-64x2-32x1-1. Dropout [0.8, 0.9, 0.7, 0.8]."
   ]
  },
  {
   "cell_type": "code",
   "execution_count": 12,
   "metadata": {},
   "outputs": [],
   "source": [
    "model = Sequential([\n",
    "    Dense(1024, input_shape=(86,), activation='relu'),\n",
    "#     Dense(1024, activation='relu'),\n",
    "#     Dense(1024, activation='relu'),\n",
    "#     Dense(1024, activation='relu'),\n",
    "    Dropout(1-0.8),\n",
    "#     Dense(512, activation='relu'),\n",
    "#     Dense(512, activation='relu'),\n",
    "    Dense(512, activation='relu'),\n",
    "    Dropout(1-0.9),\n",
    "#     Dense(256, activation='relu'),\n",
    "#     Dense(256, activation='relu'),\n",
    "    Dense(256, activation='relu'),\n",
    "    Dropout(1-0.7),\n",
    "#     Dense(128, activation='relu'),\n",
    "#     Dense(128, activation='relu'),\n",
    "    Dense(128, activation='relu'),\n",
    "    Dropout(1-0.8),\n",
    "    Dense(64, activation='relu'),\n",
    "    Dense(32, activation='relu'),\n",
    "    Dense(1, activation='linear'),\n",
    "])"
   ]
  },
  {
   "cell_type": "code",
   "execution_count": 13,
   "metadata": {},
   "outputs": [
    {
     "name": "stdout",
     "output_type": "stream",
     "text": [
      "Model: \"sequential\"\n",
      "_________________________________________________________________\n",
      "Layer (type)                 Output Shape              Param #   \n",
      "=================================================================\n",
      "dense (Dense)                (None, 1024)              89088     \n",
      "_________________________________________________________________\n",
      "dropout (Dropout)            (None, 1024)              0         \n",
      "_________________________________________________________________\n",
      "dense_1 (Dense)              (None, 512)               524800    \n",
      "_________________________________________________________________\n",
      "dropout_1 (Dropout)          (None, 512)               0         \n",
      "_________________________________________________________________\n",
      "dense_2 (Dense)              (None, 256)               131328    \n",
      "_________________________________________________________________\n",
      "dropout_2 (Dropout)          (None, 256)               0         \n",
      "_________________________________________________________________\n",
      "dense_3 (Dense)              (None, 128)               32896     \n",
      "_________________________________________________________________\n",
      "dropout_3 (Dropout)          (None, 128)               0         \n",
      "_________________________________________________________________\n",
      "dense_4 (Dense)              (None, 64)                8256      \n",
      "_________________________________________________________________\n",
      "dense_5 (Dense)              (None, 32)                2080      \n",
      "_________________________________________________________________\n",
      "dense_6 (Dense)              (None, 1)                 33        \n",
      "=================================================================\n",
      "Total params: 788,481\n",
      "Trainable params: 788,481\n",
      "Non-trainable params: 0\n",
      "_________________________________________________________________\n"
     ]
    }
   ],
   "source": [
    "model.compile(optimizer='adam',\n",
    "              loss='mse',\n",
    "              metrics=['mae'])\n",
    "\n",
    "# print summary \n",
    "model.summary()"
   ]
  },
  {
   "cell_type": "code",
   "execution_count": 14,
   "metadata": {},
   "outputs": [
    {
     "name": "stdout",
     "output_type": "stream",
     "text": [
      "Train on 3686 samples, validate on 410 samples\n",
      "Epoch 1/100\n",
      "3686/3686 - 2s - loss: 1.5076 - mae: 0.9108 - val_loss: 0.7266 - val_mae: 0.6553\n",
      "Epoch 2/100\n",
      "3686/3686 - 1s - loss: 0.5985 - mae: 0.5745 - val_loss: 0.2760 - val_mae: 0.4088\n",
      "Epoch 3/100\n",
      "3686/3686 - 1s - loss: 0.2699 - mae: 0.3838 - val_loss: 0.2622 - val_mae: 0.3657\n",
      "Epoch 4/100\n",
      "3686/3686 - 1s - loss: 0.2058 - mae: 0.3299 - val_loss: 0.1671 - val_mae: 0.3034\n",
      "Epoch 5/100\n",
      "3686/3686 - 1s - loss: 0.1710 - mae: 0.2994 - val_loss: 0.1450 - val_mae: 0.2646\n",
      "Epoch 6/100\n",
      "3686/3686 - 1s - loss: 0.1390 - mae: 0.2699 - val_loss: 0.1449 - val_mae: 0.2652\n",
      "Epoch 7/100\n",
      "3686/3686 - 1s - loss: 0.1344 - mae: 0.2615 - val_loss: 0.1301 - val_mae: 0.2456\n",
      "Epoch 8/100\n",
      "3686/3686 - 1s - loss: 0.1236 - mae: 0.2508 - val_loss: 0.1440 - val_mae: 0.2499\n",
      "Epoch 9/100\n",
      "3686/3686 - 1s - loss: 0.1058 - mae: 0.2352 - val_loss: 0.1054 - val_mae: 0.2186\n",
      "Epoch 10/100\n",
      "3686/3686 - 1s - loss: 0.0954 - mae: 0.2218 - val_loss: 0.1038 - val_mae: 0.2114\n",
      "Epoch 11/100\n",
      "3686/3686 - 1s - loss: 0.0881 - mae: 0.2111 - val_loss: 0.1062 - val_mae: 0.2352\n",
      "Epoch 12/100\n",
      "3686/3686 - 1s - loss: 0.0930 - mae: 0.2228 - val_loss: 0.1089 - val_mae: 0.2234\n",
      "Epoch 13/100\n",
      "3686/3686 - 1s - loss: 0.0820 - mae: 0.2051 - val_loss: 0.1007 - val_mae: 0.2110\n",
      "Epoch 14/100\n",
      "3686/3686 - 1s - loss: 0.0789 - mae: 0.2047 - val_loss: 0.0904 - val_mae: 0.2053\n",
      "Epoch 15/100\n",
      "3686/3686 - 1s - loss: 0.0744 - mae: 0.1953 - val_loss: 0.1029 - val_mae: 0.2233\n",
      "Epoch 16/100\n",
      "3686/3686 - 1s - loss: 0.0660 - mae: 0.1855 - val_loss: 0.0918 - val_mae: 0.1965\n",
      "Epoch 17/100\n",
      "3686/3686 - 1s - loss: 0.0603 - mae: 0.1779 - val_loss: 0.0801 - val_mae: 0.1880\n",
      "Epoch 18/100\n",
      "3686/3686 - 1s - loss: 0.0602 - mae: 0.1777 - val_loss: 0.0890 - val_mae: 0.1925\n",
      "Epoch 19/100\n",
      "3686/3686 - 1s - loss: 0.0574 - mae: 0.1743 - val_loss: 0.0849 - val_mae: 0.1894\n",
      "Epoch 20/100\n",
      "3686/3686 - 1s - loss: 0.0547 - mae: 0.1695 - val_loss: 0.0809 - val_mae: 0.1799\n",
      "Epoch 21/100\n",
      "3686/3686 - 1s - loss: 0.0540 - mae: 0.1668 - val_loss: 0.0878 - val_mae: 0.2050\n",
      "Epoch 22/100\n",
      "3686/3686 - 1s - loss: 0.0517 - mae: 0.1662 - val_loss: 0.0801 - val_mae: 0.1856\n",
      "Epoch 23/100\n",
      "3686/3686 - 1s - loss: 0.0495 - mae: 0.1630 - val_loss: 0.0873 - val_mae: 0.1916\n",
      "Epoch 24/100\n",
      "3686/3686 - 1s - loss: 0.0496 - mae: 0.1641 - val_loss: 0.0769 - val_mae: 0.1770\n",
      "Epoch 25/100\n",
      "3686/3686 - 1s - loss: 0.0445 - mae: 0.1556 - val_loss: 0.0807 - val_mae: 0.1743\n",
      "Epoch 26/100\n",
      "3686/3686 - 1s - loss: 0.0424 - mae: 0.1511 - val_loss: 0.0821 - val_mae: 0.1800\n",
      "Epoch 27/100\n",
      "3686/3686 - 1s - loss: 0.0396 - mae: 0.1478 - val_loss: 0.0865 - val_mae: 0.1887\n",
      "Epoch 28/100\n",
      "3686/3686 - 1s - loss: 0.0367 - mae: 0.1418 - val_loss: 0.0875 - val_mae: 0.1912\n",
      "Epoch 29/100\n",
      "3686/3686 - 1s - loss: 0.0369 - mae: 0.1405 - val_loss: 0.0808 - val_mae: 0.1795\n",
      "Epoch 30/100\n",
      "3686/3686 - 1s - loss: 0.0365 - mae: 0.1403 - val_loss: 0.0748 - val_mae: 0.1748\n",
      "Epoch 31/100\n",
      "3686/3686 - 0s - loss: 0.0379 - mae: 0.1418 - val_loss: 0.0807 - val_mae: 0.1828\n",
      "Epoch 32/100\n",
      "3686/3686 - 1s - loss: 0.0357 - mae: 0.1385 - val_loss: 0.0935 - val_mae: 0.1820\n",
      "Epoch 33/100\n",
      "3686/3686 - 1s - loss: 0.0345 - mae: 0.1375 - val_loss: 0.0753 - val_mae: 0.1691\n",
      "Epoch 34/100\n",
      "3686/3686 - 1s - loss: 0.0338 - mae: 0.1358 - val_loss: 0.0769 - val_mae: 0.1718\n",
      "Epoch 35/100\n",
      "3686/3686 - 1s - loss: 0.0359 - mae: 0.1399 - val_loss: 0.0769 - val_mae: 0.1716\n",
      "Epoch 36/100\n",
      "3686/3686 - 1s - loss: 0.0315 - mae: 0.1317 - val_loss: 0.0761 - val_mae: 0.1728\n",
      "Epoch 37/100\n",
      "3686/3686 - 1s - loss: 0.0318 - mae: 0.1308 - val_loss: 0.0747 - val_mae: 0.1731\n",
      "Epoch 38/100\n",
      "3686/3686 - 1s - loss: 0.0331 - mae: 0.1340 - val_loss: 0.0783 - val_mae: 0.1729\n",
      "Epoch 39/100\n",
      "3686/3686 - 1s - loss: 0.0285 - mae: 0.1242 - val_loss: 0.0760 - val_mae: 0.1714\n",
      "Epoch 40/100\n",
      "3686/3686 - 1s - loss: 0.0313 - mae: 0.1307 - val_loss: 0.0790 - val_mae: 0.1726\n",
      "Epoch 41/100\n",
      "3686/3686 - 1s - loss: 0.0290 - mae: 0.1252 - val_loss: 0.0723 - val_mae: 0.1719\n",
      "Epoch 42/100\n",
      "3686/3686 - 1s - loss: 0.0286 - mae: 0.1242 - val_loss: 0.0814 - val_mae: 0.1753\n",
      "Epoch 43/100\n",
      "3686/3686 - 1s - loss: 0.0319 - mae: 0.1294 - val_loss: 0.0754 - val_mae: 0.1740\n",
      "Epoch 44/100\n",
      "3686/3686 - 1s - loss: 0.0290 - mae: 0.1258 - val_loss: 0.0858 - val_mae: 0.1763\n",
      "Epoch 45/100\n",
      "3686/3686 - 1s - loss: 0.0293 - mae: 0.1238 - val_loss: 0.0664 - val_mae: 0.1550\n",
      "Epoch 46/100\n",
      "3686/3686 - 1s - loss: 0.0288 - mae: 0.1243 - val_loss: 0.0756 - val_mae: 0.1641\n",
      "Epoch 47/100\n",
      "3686/3686 - 1s - loss: 0.0296 - mae: 0.1248 - val_loss: 0.0792 - val_mae: 0.1735\n",
      "Epoch 48/100\n",
      "3686/3686 - 1s - loss: 0.0305 - mae: 0.1291 - val_loss: 0.0829 - val_mae: 0.1703\n",
      "Epoch 49/100\n",
      "3686/3686 - 1s - loss: 0.0331 - mae: 0.1328 - val_loss: 0.0835 - val_mae: 0.1870\n",
      "Epoch 50/100\n",
      "3686/3686 - 1s - loss: 0.0314 - mae: 0.1296 - val_loss: 0.0787 - val_mae: 0.1722\n",
      "Epoch 51/100\n",
      "3686/3686 - 1s - loss: 0.0278 - mae: 0.1225 - val_loss: 0.0865 - val_mae: 0.1715\n",
      "Epoch 52/100\n",
      "3686/3686 - 1s - loss: 0.0289 - mae: 0.1253 - val_loss: 0.0787 - val_mae: 0.1703\n",
      "Epoch 53/100\n",
      "3686/3686 - 1s - loss: 0.0258 - mae: 0.1166 - val_loss: 0.0907 - val_mae: 0.1977\n",
      "Epoch 54/100\n",
      "3686/3686 - 1s - loss: 0.0303 - mae: 0.1250 - val_loss: 0.0783 - val_mae: 0.1694\n",
      "Epoch 55/100\n",
      "3686/3686 - 1s - loss: 0.0259 - mae: 0.1184 - val_loss: 0.0803 - val_mae: 0.1695\n",
      "Epoch 56/100\n",
      "3686/3686 - 1s - loss: 0.0225 - mae: 0.1102 - val_loss: 0.0821 - val_mae: 0.1587\n",
      "Epoch 57/100\n",
      "3686/3686 - 1s - loss: 0.0257 - mae: 0.1191 - val_loss: 0.0767 - val_mae: 0.1645\n",
      "Epoch 58/100\n",
      "3686/3686 - 1s - loss: 0.0257 - mae: 0.1163 - val_loss: 0.0810 - val_mae: 0.1725\n",
      "Epoch 59/100\n",
      "3686/3686 - 1s - loss: 0.0243 - mae: 0.1139 - val_loss: 0.0724 - val_mae: 0.1628\n",
      "Epoch 60/100\n",
      "3686/3686 - 1s - loss: 0.0266 - mae: 0.1185 - val_loss: 0.0819 - val_mae: 0.1641\n",
      "Epoch 61/100\n",
      "3686/3686 - 1s - loss: 0.0216 - mae: 0.1093 - val_loss: 0.0732 - val_mae: 0.1605\n",
      "Epoch 62/100\n",
      "3686/3686 - 1s - loss: 0.0245 - mae: 0.1153 - val_loss: 0.0760 - val_mae: 0.1621\n",
      "Epoch 63/100\n",
      "3686/3686 - 1s - loss: 0.0219 - mae: 0.1084 - val_loss: 0.0811 - val_mae: 0.1632\n",
      "Epoch 64/100\n",
      "3686/3686 - 1s - loss: 0.0208 - mae: 0.1062 - val_loss: 0.0731 - val_mae: 0.1598\n",
      "Epoch 65/100\n",
      "3686/3686 - 1s - loss: 0.0217 - mae: 0.1094 - val_loss: 0.0745 - val_mae: 0.1588\n",
      "Epoch 66/100\n",
      "3686/3686 - 1s - loss: 0.0211 - mae: 0.1089 - val_loss: 0.0766 - val_mae: 0.1745\n",
      "Epoch 67/100\n",
      "3686/3686 - 1s - loss: 0.0200 - mae: 0.1028 - val_loss: 0.0719 - val_mae: 0.1723\n",
      "Epoch 68/100\n",
      "3686/3686 - 1s - loss: 0.0217 - mae: 0.1073 - val_loss: 0.0805 - val_mae: 0.1676\n",
      "Epoch 69/100\n",
      "3686/3686 - 1s - loss: 0.0218 - mae: 0.1076 - val_loss: 0.0722 - val_mae: 0.1585\n",
      "Epoch 70/100\n",
      "3686/3686 - 1s - loss: 0.0209 - mae: 0.1057 - val_loss: 0.0771 - val_mae: 0.1688\n",
      "Epoch 71/100\n",
      "3686/3686 - 1s - loss: 0.0210 - mae: 0.1063 - val_loss: 0.0842 - val_mae: 0.1722\n",
      "Epoch 72/100\n",
      "3686/3686 - 1s - loss: 0.0224 - mae: 0.1084 - val_loss: 0.0839 - val_mae: 0.1750\n",
      "Epoch 73/100\n",
      "3686/3686 - 1s - loss: 0.0242 - mae: 0.1135 - val_loss: 0.0749 - val_mae: 0.1654\n",
      "Epoch 74/100\n",
      "3686/3686 - 1s - loss: 0.0219 - mae: 0.1070 - val_loss: 0.0748 - val_mae: 0.1717\n",
      "Epoch 75/100\n",
      "3686/3686 - 1s - loss: 0.0198 - mae: 0.1039 - val_loss: 0.0830 - val_mae: 0.1694\n",
      "Epoch 76/100\n",
      "3686/3686 - 1s - loss: 0.0198 - mae: 0.1029 - val_loss: 0.0785 - val_mae: 0.1639\n",
      "Epoch 77/100\n",
      "3686/3686 - 1s - loss: 0.0238 - mae: 0.1107 - val_loss: 0.0851 - val_mae: 0.1840\n",
      "Epoch 78/100\n",
      "3686/3686 - 1s - loss: 0.0204 - mae: 0.1052 - val_loss: 0.0802 - val_mae: 0.1680\n",
      "Epoch 79/100\n",
      "3686/3686 - 1s - loss: 0.0193 - mae: 0.1031 - val_loss: 0.0803 - val_mae: 0.1662\n",
      "Epoch 80/100\n",
      "3686/3686 - 1s - loss: 0.0210 - mae: 0.1038 - val_loss: 0.0845 - val_mae: 0.1789\n",
      "Epoch 81/100\n",
      "3686/3686 - 1s - loss: 0.0197 - mae: 0.1016 - val_loss: 0.0733 - val_mae: 0.1589\n",
      "Epoch 82/100\n",
      "3686/3686 - 1s - loss: 0.0178 - mae: 0.0979 - val_loss: 0.0753 - val_mae: 0.1611\n",
      "Epoch 83/100\n",
      "3686/3686 - 1s - loss: 0.0252 - mae: 0.1118 - val_loss: 0.0765 - val_mae: 0.1661\n",
      "Epoch 84/100\n",
      "3686/3686 - 1s - loss: 0.0214 - mae: 0.1067 - val_loss: 0.0825 - val_mae: 0.1698\n",
      "Epoch 85/100\n",
      "3686/3686 - 1s - loss: 0.0198 - mae: 0.1014 - val_loss: 0.0865 - val_mae: 0.1690\n",
      "Epoch 86/100\n",
      "3686/3686 - 1s - loss: 0.0192 - mae: 0.1003 - val_loss: 0.0793 - val_mae: 0.1605\n",
      "Epoch 87/100\n",
      "3686/3686 - 1s - loss: 0.0172 - mae: 0.0957 - val_loss: 0.0876 - val_mae: 0.1647\n"
     ]
    },
    {
     "name": "stdout",
     "output_type": "stream",
     "text": [
      "Epoch 88/100\n",
      "3686/3686 - 1s - loss: 0.0152 - mae: 0.0919 - val_loss: 0.0787 - val_mae: 0.1604\n",
      "Epoch 89/100\n",
      "3686/3686 - 1s - loss: 0.0166 - mae: 0.0947 - val_loss: 0.0868 - val_mae: 0.1709\n",
      "Epoch 90/100\n",
      "3686/3686 - 1s - loss: 0.0192 - mae: 0.0987 - val_loss: 0.0744 - val_mae: 0.1626\n",
      "Epoch 91/100\n",
      "3686/3686 - 1s - loss: 0.0240 - mae: 0.1086 - val_loss: 0.0794 - val_mae: 0.1639\n",
      "Epoch 92/100\n",
      "3686/3686 - 1s - loss: 0.0197 - mae: 0.1017 - val_loss: 0.0804 - val_mae: 0.1647\n",
      "Epoch 93/100\n",
      "3686/3686 - 1s - loss: 0.0182 - mae: 0.0998 - val_loss: 0.0806 - val_mae: 0.1644\n",
      "Epoch 94/100\n",
      "3686/3686 - 1s - loss: 0.0149 - mae: 0.0902 - val_loss: 0.0795 - val_mae: 0.1614\n",
      "Epoch 95/100\n",
      "3686/3686 - 1s - loss: 0.0164 - mae: 0.0939 - val_loss: 0.0834 - val_mae: 0.1685\n",
      "Epoch 96/100\n",
      "3686/3686 - 1s - loss: 0.0158 - mae: 0.0928 - val_loss: 0.0774 - val_mae: 0.1633\n",
      "Epoch 97/100\n",
      "3686/3686 - 1s - loss: 0.0154 - mae: 0.0895 - val_loss: 0.0720 - val_mae: 0.1649\n",
      "Epoch 98/100\n",
      "3686/3686 - 1s - loss: 0.0148 - mae: 0.0907 - val_loss: 0.0776 - val_mae: 0.1664\n",
      "Epoch 99/100\n",
      "3686/3686 - 1s - loss: 0.0157 - mae: 0.0915 - val_loss: 0.0738 - val_mae: 0.1593\n",
      "Epoch 100/100\n",
      "3686/3686 - 1s - loss: 0.0150 - mae: 0.0890 - val_loss: 0.0747 - val_mae: 0.1605\n"
     ]
    }
   ],
   "source": [
    "epochs = 100\n",
    "history = model.fit(x=X_train[:4096], y=y_train[:4096], batch_size=32, validation_split=0.1, verbose=2, epochs=epochs)"
   ]
  },
  {
   "cell_type": "markdown",
   "metadata": {},
   "source": [
    "## Visulaizing the training curves"
   ]
  },
  {
   "cell_type": "code",
   "execution_count": 15,
   "metadata": {},
   "outputs": [
    {
     "data": {
      "image/png": "[encoded data removed]",
      "text/plain": [
       "<Figure size 576x576 with 2 Axes>"
      ]
     },
     "metadata": {
      "needs_background": "light"
     },
     "output_type": "display_data"
    }
   ],
   "source": [
    "acc = history.history['mae']\n",
    "val_acc = history.history['val_mae']\n",
    "\n",
    "loss = history.history['loss']\n",
    "val_loss = history.history['val_loss']\n",
    "\n",
    "epochs_range = range(epochs)\n",
    "\n",
    "plt.figure(figsize=(8, 8))\n",
    "plt.subplot(1, 2, 1)\n",
    "plt.plot(epochs_range, acc, label='Training MAE')\n",
    "plt.plot(epochs_range, val_acc, label='Validation MAE')\n",
    "plt.legend(loc='upper right')\n",
    "plt.title('Training MAE')\n",
    "\n",
    "plt.subplot(1, 2, 2)\n",
    "plt.plot(epochs_range, loss, label='Training Loss')\n",
    "plt.plot(epochs_range, val_loss, label='Validation Loss')\n",
    "plt.legend(loc='upper right')\n",
    "plt.title('Training Loss')\n",
    "plt.show()\n",
    "\n"
   ]
  },
  {
   "cell_type": "markdown",
   "metadata": {},
   "source": [
    "## Predict"
   ]
  },
  {
   "cell_type": "code",
   "execution_count": 16,
   "metadata": {},
   "outputs": [
    {
     "name": "stdout",
     "output_type": "stream",
     "text": [
      "MAE for the prediction is 0.0765 eV/atom and loss is 0.0765\n"
     ]
    }
   ],
   "source": [
    "y_pred = model.predict(X_test[:256])\n",
    "\n",
    "mse = mean_squared_error(y_test[:256], y_pred)\n",
    "mae = mean_squared_error(y_test[:256], y_pred)\n",
    "\n",
    "print('MAE for the prediction is {0} eV/atom and loss is {1}'.format(round(mae, 4), round(mse, 4)))"
   ]
  },
  {
   "cell_type": "code",
   "execution_count": null,
   "metadata": {},
   "outputs": [],
   "source": []
  }
 ],
 "metadata": {
  "kernelspec": {
   "display_name": "Python 3",
   "language": "python",
   "name": "python3"
  },
  "language_info": {
   "codemirror_mode": {
    "name": "ipython",
    "version": 3
   },
   "file_extension": ".py",
   "mimetype": "text/x-python",
   "name": "python",
   "nbconvert_exporter": "python",
   "pygments_lexer": "ipython3",
   "version": "3.6.8"
  }
 },
 "nbformat": 4,
 "nbformat_minor": 2
}
