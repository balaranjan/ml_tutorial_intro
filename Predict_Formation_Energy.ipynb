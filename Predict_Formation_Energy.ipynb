{
 "cells": [
  {
   "cell_type": "markdown",
   "metadata": {},
   "source": [
    "# Prediction of Formation Energy of Solids Using Neural Network\n",
    "\n",
    "\n",
    "This work was reported by Jha *et al.*[1] and in this exercise, we will implement, train, and validate a model to predict the formation energy of given solid using its formula as the input.\n",
    "\n",
    "\n",
    "1. Jha, D., Ward, L., Paul, A., Liao, W.-K., Choudhary, A., Wolverton, C., & Agrawal, A. **(2018)**. ElemNet : Deep Learning the Chemistry of Materials From Only Elemental Composition. Scientific Reports, 8(1), 17593. http://doi.org/10.1038/s41598-018-35934-y"
   ]
  },
  {
   "cell_type": "markdown",
   "metadata": {},
   "source": [
    "## Setup Runtime Install necessary packages\n",
    "\n",
    "Set runtime to GPU.\n",
    "Clone the repo."
   ]
  },
  {
   "cell_type": "code",
   "execution_count": 1,
   "metadata": {},
   "outputs": [
    {
     "name": "stdout",
     "output_type": "stream",
     "text": [
      "Requirement already satisfied: numpy in /home/bala/anaconda3/envs/tf20/lib/python3.6/site-packages (1.17.3)\n",
      "Requirement already satisfied: matplotlib in /home/bala/anaconda3/envs/tf20/lib/python3.6/site-packages (3.1.1)\n",
      "Requirement already satisfied: pandas in /home/bala/anaconda3/envs/tf20/lib/python3.6/site-packages (0.25.2)\n",
      "Requirement already satisfied: scikit-learn in /home/bala/anaconda3/envs/tf20/lib/python3.6/site-packages (0.21.3)\n",
      "Requirement already satisfied: tensorflow in /home/bala/anaconda3/envs/tf20/lib/python3.6/site-packages (2.0.0)\n",
      "Requirement already satisfied: cycler>=0.10 in /home/bala/anaconda3/envs/tf20/lib/python3.6/site-packages (from matplotlib) (0.10.0)\n",
      "Requirement already satisfied: kiwisolver>=1.0.1 in /home/bala/anaconda3/envs/tf20/lib/python3.6/site-packages (from matplotlib) (1.1.0)\n",
      "Requirement already satisfied: pyparsing!=2.0.4,!=2.1.2,!=2.1.6,>=2.0.1 in /home/bala/anaconda3/envs/tf20/lib/python3.6/site-packages (from matplotlib) (2.4.4)\n",
      "Requirement already satisfied: python-dateutil>=2.1 in /home/bala/anaconda3/envs/tf20/lib/python3.6/site-packages (from matplotlib) (2.8.1)\n",
      "Requirement already satisfied: pytz>=2017.2 in /home/bala/anaconda3/envs/tf20/lib/python3.6/site-packages (from pandas) (2019.3)\n",
      "Requirement already satisfied: joblib>=0.11 in /home/bala/anaconda3/envs/tf20/lib/python3.6/site-packages (from scikit-learn) (0.14.0)\n",
      "Requirement already satisfied: scipy>=0.17.0 in /home/bala/anaconda3/envs/tf20/lib/python3.6/site-packages (from scikit-learn) (1.3.1)\n",
      "Requirement already satisfied: absl-py>=0.7.0 in /home/bala/anaconda3/envs/tf20/lib/python3.6/site-packages (from tensorflow) (0.8.1)\n",
      "Requirement already satisfied: gast==0.2.2 in /home/bala/anaconda3/envs/tf20/lib/python3.6/site-packages (from tensorflow) (0.2.2)\n",
      "Requirement already satisfied: keras-preprocessing>=1.0.5 in /home/bala/anaconda3/envs/tf20/lib/python3.6/site-packages (from tensorflow) (1.1.0)\n",
      "Requirement already satisfied: protobuf>=3.6.1 in /home/bala/anaconda3/envs/tf20/lib/python3.6/site-packages (from tensorflow) (3.9.2)\n",
      "Requirement already satisfied: keras-applications>=1.0.8 in /home/bala/anaconda3/envs/tf20/lib/python3.6/site-packages (from tensorflow) (1.0.8)\n",
      "Requirement already satisfied: termcolor>=1.1.0 in /home/bala/anaconda3/envs/tf20/lib/python3.6/site-packages (from tensorflow) (1.1.0)\n",
      "Requirement already satisfied: grpcio>=1.8.6 in /home/bala/anaconda3/envs/tf20/lib/python3.6/site-packages (from tensorflow) (1.16.1)\n",
      "Requirement already satisfied: wheel>=0.26 in /home/bala/anaconda3/envs/tf20/lib/python3.6/site-packages (from tensorflow) (0.33.6)\n",
      "Requirement already satisfied: six>=1.10.0 in /home/bala/anaconda3/envs/tf20/lib/python3.6/site-packages (from tensorflow) (1.13.0)\n",
      "Requirement already satisfied: tensorflow-estimator<2.1.0,>=2.0.0 in /home/bala/anaconda3/envs/tf20/lib/python3.6/site-packages (from tensorflow) (2.0.0)\n",
      "Requirement already satisfied: wrapt>=1.11.1 in /home/bala/anaconda3/envs/tf20/lib/python3.6/site-packages (from tensorflow) (1.11.2)\n",
      "Requirement already satisfied: opt-einsum>=2.3.2 in /home/bala/anaconda3/envs/tf20/lib/python3.6/site-packages (from tensorflow) (3.1.0)\n",
      "Requirement already satisfied: google-pasta>=0.1.6 in /home/bala/anaconda3/envs/tf20/lib/python3.6/site-packages (from tensorflow) (0.1.7)\n",
      "Requirement already satisfied: astor>=0.6.0 in /home/bala/anaconda3/envs/tf20/lib/python3.6/site-packages (from tensorflow) (0.8.0)\n",
      "Requirement already satisfied: tensorboard<2.1.0,>=2.0.0 in /home/bala/anaconda3/envs/tf20/lib/python3.6/site-packages (from tensorflow) (2.0.0)\n",
      "Requirement already satisfied: setuptools in /home/bala/anaconda3/envs/tf20/lib/python3.6/site-packages (from kiwisolver>=1.0.1->matplotlib) (41.6.0.post20191030)\n",
      "Requirement already satisfied: h5py in /home/bala/anaconda3/envs/tf20/lib/python3.6/site-packages (from keras-applications>=1.0.8->tensorflow) (2.9.0)\n",
      "Requirement already satisfied: markdown>=2.6.8 in /home/bala/anaconda3/envs/tf20/lib/python3.6/site-packages (from tensorboard<2.1.0,>=2.0.0->tensorflow) (3.1.1)\n",
      "Requirement already satisfied: werkzeug>=0.11.15 in /home/bala/anaconda3/envs/tf20/lib/python3.6/site-packages (from tensorboard<2.1.0,>=2.0.0->tensorflow) (0.16.0)\n"
     ]
    }
   ],
   "source": [
    "!pip install numpy matplotlib pandas scikit-learn tensorflow-gpu==2.0"
   ]
  },
  {
   "cell_type": "code",
   "execution_count": 1,
   "metadata": {},
   "outputs": [],
   "source": [
    "parent_dir = 'ML_Workshop/'"
   ]
  },
  {
   "cell_type": "code",
   "execution_count": 2,
   "metadata": {},
   "outputs": [],
   "source": [
    "# import\n",
    "import tensorflow as tf\n",
    "from tensorflow.keras.models import Sequential\n",
    "from tensorflow.keras.layers import Dense, Dropout\n",
    "from sklearn.model_selection import train_test_split\n",
    "from sklearn.metrics import mean_squared_error, mean_absolute_error\n",
    "import pandas as pd\n",
    "import numpy as np\n",
    "import re\n",
    "import matplotlib\n",
    "%matplotlib inline\n",
    "import matplotlib.pyplot as plt"
   ]
  },
  {
   "cell_type": "markdown",
   "metadata": {},
   "source": [
    "## Descriptor\n",
    "\n",
    "The descriptor is the composition of the given system. The discriptor will be an array of length 86 (dataset contains only 86 elements)."
   ]
  },
  {
   "cell_type": "markdown",
   "metadata": {},
   "source": [
    "### Load data"
   ]
  },
  {
   "cell_type": "code",
   "execution_count": 3,
   "metadata": {},
   "outputs": [
    {
     "data": {
      "text/html": [
       "<div>\n",
       "<style scoped>\n",
       "    .dataframe tbody tr th:only-of-type {\n",
       "        vertical-align: middle;\n",
       "    }\n",
       "\n",
       "    .dataframe tbody tr th {\n",
       "        vertical-align: top;\n",
       "    }\n",
       "\n",
       "    .dataframe thead th {\n",
       "        text-align: right;\n",
       "    }\n",
       "</style>\n",
       "<table border=\"1\" class=\"dataframe\">\n",
       "  <thead>\n",
       "    <tr style=\"text-align: right;\">\n",
       "      <th></th>\n",
       "      <th>formula</th>\n",
       "      <th>energy</th>\n",
       "    </tr>\n",
       "  </thead>\n",
       "  <tbody>\n",
       "    <tr>\n",
       "      <th>0</th>\n",
       "      <td>Ge4Mg2O12Sn2</td>\n",
       "      <td>-2.167457</td>\n",
       "    </tr>\n",
       "    <tr>\n",
       "      <th>1</th>\n",
       "      <td>Cr6O16</td>\n",
       "      <td>-1.338311</td>\n",
       "    </tr>\n",
       "    <tr>\n",
       "      <th>2</th>\n",
       "      <td>AlBa2Fe3O8</td>\n",
       "      <td>-2.265546</td>\n",
       "    </tr>\n",
       "    <tr>\n",
       "      <th>3</th>\n",
       "      <td>Mg2Mo3O8</td>\n",
       "      <td>-2.300022</td>\n",
       "    </tr>\n",
       "    <tr>\n",
       "      <th>4</th>\n",
       "      <td>BiF6Mg</td>\n",
       "      <td>-2.932162</td>\n",
       "    </tr>\n",
       "  </tbody>\n",
       "</table>\n",
       "</div>"
      ],
      "text/plain": [
       "        formula    energy\n",
       "0  Ge4Mg2O12Sn2 -2.167457\n",
       "1        Cr6O16 -1.338311\n",
       "2    AlBa2Fe3O8 -2.265546\n",
       "3      Mg2Mo3O8 -2.300022\n",
       "4        BiF6Mg -2.932162"
      ]
     },
     "execution_count": 3,
     "metadata": {},
     "output_type": "execute_result"
    }
   ],
   "source": [
    "df = pd.read_csv(parent_dir + 'data/inorg/mp.csv')\n",
    "df.head()"
   ]
  },
  {
   "cell_type": "code",
   "execution_count": 4,
   "metadata": {},
   "outputs": [
    {
     "data": {
      "text/plain": [
       "<matplotlib.axes._subplots.AxesSubplot at 0x1a3c683b70>"
      ]
     },
     "execution_count": 4,
     "metadata": {},
     "output_type": "execute_result"
    },
    {
     "data": {
      "image/png": "[encoded data removed]",
      "text/plain": [
       "<Figure size 432x288 with 1 Axes>"
      ]
     },
     "metadata": {
      "needs_background": "light"
     },
     "output_type": "display_data"
    }
   ],
   "source": [
    "# visulaize the energy histogram\n",
    "df['energy'].hist(bins=50)"
   ]
  },
  {
   "cell_type": "markdown",
   "metadata": {},
   "source": [
    "### Calculate Descriptor"
   ]
  },
  {
   "cell_type": "code",
   "execution_count": 5,
   "metadata": {},
   "outputs": [
    {
     "data": {
      "text/plain": [
       "{'Ge': 4, 'Mg': 2, 'O': 12, 'Sn': 2}"
      ]
     },
     "execution_count": 5,
     "metadata": {},
     "output_type": "execute_result"
    }
   ],
   "source": [
    "def parse_formula(formula):\n",
    "    \n",
    "    split = re.findall('[A-Z][^A-Z]*', formula)\n",
    "    result = {}\n",
    "    for el in split:\n",
    "        head = el.rstrip('0123456789')\n",
    "        tail = el[len(head):]\n",
    "        result[head] = int(tail) if tail != '' else 1\n",
    "    \n",
    "    return result\n",
    "    \n",
    "parse_formula('Ge4Mg2O12Sn2')"
   ]
  },
  {
   "cell_type": "code",
   "execution_count": 6,
   "metadata": {},
   "outputs": [],
   "source": [
    "# build template for descriptor\n",
    "elements = ['H', 'Li', 'Be', 'B', 'C', 'N', 'O', 'F', 'Na', 'Mg', 'Al', 'Si', 'P', 'S', 'Cl', 'K', 'Ca', 'Sc', 'Ti', 'V', \n",
    "            'Cr', 'Mn', 'Fe', 'Co', 'Ni', 'Cu', 'Zn', 'Ga', 'Ge', 'As', 'Se', 'Br', 'Kr', 'Rb', 'Sr', 'Y', 'Zr', 'Nb', \n",
    "            'Mo', 'Tc', 'Ru', 'Rh', 'Pd', 'Ag', 'Cd', 'In', 'Sn', 'Sb', 'Te', 'I', 'Xe', 'Cs', 'Ba', 'La', 'Ce', 'Pr', \n",
    "            'Nd', 'Pm', 'Sm', 'Eu', 'Gd', 'Tb', 'Dy', 'Ho', 'Er', 'Tm', 'Yb', 'Lu', 'Hf', 'Ta', 'W', 'Re', 'Os', 'Ir', \n",
    "            'Pt', 'Au', 'Hg', 'Tl', 'Pb', 'Bi', 'Ac', 'Th', 'Pa', 'U', 'Np', 'Pu']\n",
    "desc_positions = dict(zip(elements, range(len(elements))))"
   ]
  },
  {
   "cell_type": "code",
   "execution_count": 7,
   "metadata": {},
   "outputs": [
    {
     "name": "stdout",
     "output_type": "stream",
     "text": [
      "{'H': 0, 'Li': 1, 'Be': 2, 'B': 3, 'C': 4, 'N': 5, 'O': 6, 'F': 7, 'Na': 8, 'Mg': 9, 'Al': 10, 'Si': 11, 'P': 12, 'S': 13, 'Cl': 14, 'K': 15, 'Ca': 16, 'Sc': 17, 'Ti': 18, 'V': 19, 'Cr': 20, 'Mn': 21, 'Fe': 22, 'Co': 23, 'Ni': 24, 'Cu': 25, 'Zn': 26, 'Ga': 27, 'Ge': 28, 'As': 29, 'Se': 30, 'Br': 31, 'Kr': 32, 'Rb': 33, 'Sr': 34, 'Y': 35, 'Zr': 36, 'Nb': 37, 'Mo': 38, 'Tc': 39, 'Ru': 40, 'Rh': 41, 'Pd': 42, 'Ag': 43, 'Cd': 44, 'In': 45, 'Sn': 46, 'Sb': 47, 'Te': 48, 'I': 49, 'Xe': 50, 'Cs': 51, 'Ba': 52, 'La': 53, 'Ce': 54, 'Pr': 55, 'Nd': 56, 'Pm': 57, 'Sm': 58, 'Eu': 59, 'Gd': 60, 'Tb': 61, 'Dy': 62, 'Ho': 63, 'Er': 64, 'Tm': 65, 'Yb': 66, 'Lu': 67, 'Hf': 68, 'Ta': 69, 'W': 70, 'Re': 71, 'Os': 72, 'Ir': 73, 'Pt': 74, 'Au': 75, 'Hg': 76, 'Tl': 77, 'Pb': 78, 'Bi': 79, 'Ac': 80, 'Th': 81, 'Pa': 82, 'U': 83, 'Np': 84, 'Pu': 85}\n"
     ]
    }
   ],
   "source": [
    "print(desc_positions)"
   ]
  },
  {
   "cell_type": "code",
   "execution_count": 8,
   "metadata": {},
   "outputs": [],
   "source": [
    "def get_descriptor(formula):\n",
    "    \n",
    "    elem_counts = parse_formula(formula)\n",
    "    desc = np.zeros(shape=86)\n",
    "    for k, v in elem_counts.items():\n",
    "        desc[desc_positions.get(k)] = v\n",
    "        \n",
    "    return desc"
   ]
  },
  {
   "cell_type": "code",
   "execution_count": 9,
   "metadata": {},
   "outputs": [
    {
     "name": "stdout",
     "output_type": "stream",
     "text": [
      "[ 0.  0.  0.  0.  0.  0. 12.  0.  0.  2.  0.  0.  0.  0.  0.  0.  0.  0.\n",
      "  0.  0.  0.  0.  0.  0.  0.  0.  0.  0.  4.  0.  0.  0.  0.  0.  0.  0.\n",
      "  0.  0.  0.  0.  0.  0.  0.  0.  0.  0.  2.  0.  0.  0.  0.  0.  0.  0.\n",
      "  0.  0.  0.  0.  0.  0.  0.  0.  0.  0.  0.  0.  0.  0.  0.  0.  0.  0.\n",
      "  0.  0.  0.  0.  0.  0.  0.  0.  0.  0.  0.  0.  0.  0.]\n"
     ]
    }
   ],
   "source": [
    "print(get_descriptor('Ge4Mg2O12Sn2'))"
   ]
  },
  {
   "cell_type": "code",
   "execution_count": 10,
   "metadata": {},
   "outputs": [
    {
     "name": "stdout",
     "output_type": "stream",
     "text": [
      "(67847, 86)\n",
      "(67847,)\n"
     ]
    }
   ],
   "source": [
    "# get datasets\n",
    "x = []\n",
    "y = []\n",
    "\n",
    "for row in df.itertuples():\n",
    "    x.append(get_descriptor(row.formula))\n",
    "    y.append(float(row.energy))\n",
    "\n",
    "x = np.stack(x)\n",
    "y = np.array(y)\n",
    "\n",
    "print(x.shape)\n",
    "print(y.shape)"
   ]
  },
  {
   "cell_type": "code",
   "execution_count": 11,
   "metadata": {},
   "outputs": [
    {
     "name": "stdout",
     "output_type": "stream",
     "text": [
      "(54277, 86)\n",
      "(13570, 86)\n"
     ]
    }
   ],
   "source": [
    "# train test split\n",
    "X_train, X_test, y_train, y_test = train_test_split(x, y, test_size=0.2, random_state=35)\n",
    "\n",
    "print(X_train.shape)\n",
    "print(X_test.shape)"
   ]
  },
  {
   "cell_type": "markdown",
   "metadata": {},
   "source": [
    "## Model\n",
    "\n",
    "We will start with a model with six hidden layers with [1024, 512, 256, 128, 64, 32] neurons. We will use relu activations, ADAM optimizer and mean squared error for loss function.\n",
    "\n",
    "Architecture used in the paper is 1024x4-512x3-256x3-128x3-64x2-32x1-1. Dropout [0.2, 0.1, 0.3, 0.2]."
   ]
  },
  {
   "cell_type": "code",
   "execution_count": 12,
   "metadata": {},
   "outputs": [],
   "source": [
    "model = Sequential([\n",
    "    Dense(1024, input_shape=(86,), activation='relu'),  # x 4\n",
    "    Dropout(0.2),\n",
    "    Dense(512, activation='relu'),  # x 3\n",
    "    Dropout(0.1),\n",
    "    Dense(256, activation='relu'),  # x 3\n",
    "    Dropout(0.3),\n",
    "    Dense(128, activation='relu'),  # x 3\n",
    "    Dropout(0.2),\n",
    "    Dense(64, activation='relu'),\n",
    "    Dense(32, activation='relu'),\n",
    "    Dense(1, activation='linear'),\n",
    "])"
   ]
  },
  {
   "cell_type": "code",
   "execution_count": 13,
   "metadata": {},
   "outputs": [
    {
     "name": "stdout",
     "output_type": "stream",
     "text": [
      "Model: \"sequential\"\n",
      "_________________________________________________________________\n",
      "Layer (type)                 Output Shape              Param #   \n",
      "=================================================================\n",
      "dense (Dense)                (None, 1024)              89088     \n",
      "_________________________________________________________________\n",
      "dropout (Dropout)            (None, 1024)              0         \n",
      "_________________________________________________________________\n",
      "dense_1 (Dense)              (None, 512)               524800    \n",
      "_________________________________________________________________\n",
      "dropout_1 (Dropout)          (None, 512)               0         \n",
      "_________________________________________________________________\n",
      "dense_2 (Dense)              (None, 256)               131328    \n",
      "_________________________________________________________________\n",
      "dropout_2 (Dropout)          (None, 256)               0         \n",
      "_________________________________________________________________\n",
      "dense_3 (Dense)              (None, 128)               32896     \n",
      "_________________________________________________________________\n",
      "dropout_3 (Dropout)          (None, 128)               0         \n",
      "_________________________________________________________________\n",
      "dense_4 (Dense)              (None, 64)                8256      \n",
      "_________________________________________________________________\n",
      "dense_5 (Dense)              (None, 32)                2080      \n",
      "_________________________________________________________________\n",
      "dense_6 (Dense)              (None, 1)                 33        \n",
      "=================================================================\n",
      "Total params: 788,481\n",
      "Trainable params: 788,481\n",
      "Non-trainable params: 0\n",
      "_________________________________________________________________\n"
     ]
    }
   ],
   "source": [
    "model.compile(optimizer='adam',\n",
    "              loss='mse',\n",
    "              metrics=['mae'])\n",
    "\n",
    "# print summary \n",
    "model.summary()"
   ]
  },
  {
   "cell_type": "code",
   "execution_count": 14,
   "metadata": {},
   "outputs": [
    {
     "name": "stdout",
     "output_type": "stream",
     "text": [
      "Train on 3686 samples, validate on 410 samples\n",
      "Epoch 1/100\n",
      "3686/3686 - 4s - loss: 1.5726 - mae: 0.9398 - val_loss: 1.0557 - val_mae: 0.8066\n",
      "Epoch 2/100\n",
      "3686/3686 - 2s - loss: 0.7300 - mae: 0.6370 - val_loss: 0.4359 - val_mae: 0.4901\n",
      "Epoch 3/100\n",
      "3686/3686 - 2s - loss: 0.3181 - mae: 0.4176 - val_loss: 0.2184 - val_mae: 0.3181\n",
      "Epoch 4/100\n",
      "3686/3686 - 2s - loss: 0.2119 - mae: 0.3369 - val_loss: 0.1928 - val_mae: 0.3107\n",
      "Epoch 5/100\n",
      "3686/3686 - 2s - loss: 0.1800 - mae: 0.3102 - val_loss: 0.2620 - val_mae: 0.3853\n",
      "Epoch 6/100\n",
      "3686/3686 - 2s - loss: 0.1683 - mae: 0.3015 - val_loss: 0.1663 - val_mae: 0.3041\n",
      "Epoch 7/100\n",
      "3686/3686 - 2s - loss: 0.1440 - mae: 0.2776 - val_loss: 0.2040 - val_mae: 0.3591\n",
      "Epoch 8/100\n",
      "3686/3686 - 2s - loss: 0.1216 - mae: 0.2499 - val_loss: 0.1408 - val_mae: 0.2806\n",
      "Epoch 9/100\n",
      "3686/3686 - 2s - loss: 0.1095 - mae: 0.2398 - val_loss: 0.1337 - val_mae: 0.2560\n",
      "Epoch 10/100\n",
      "3686/3686 - 2s - loss: 0.1028 - mae: 0.2294 - val_loss: 0.1182 - val_mae: 0.2499\n",
      "Epoch 11/100\n",
      "3686/3686 - 2s - loss: 0.1032 - mae: 0.2306 - val_loss: 0.1403 - val_mae: 0.2800\n",
      "Epoch 12/100\n",
      "3686/3686 - 2s - loss: 0.0912 - mae: 0.2163 - val_loss: 0.1287 - val_mae: 0.2660\n",
      "Epoch 13/100\n",
      "3686/3686 - 2s - loss: 0.0823 - mae: 0.2084 - val_loss: 0.1010 - val_mae: 0.2247\n",
      "Epoch 14/100\n",
      "3686/3686 - 2s - loss: 0.0778 - mae: 0.2032 - val_loss: 0.0943 - val_mae: 0.2020\n",
      "Epoch 15/100\n",
      "3686/3686 - 2s - loss: 0.0770 - mae: 0.2018 - val_loss: 0.1103 - val_mae: 0.2376\n",
      "Epoch 16/100\n",
      "3686/3686 - 2s - loss: 0.0696 - mae: 0.1913 - val_loss: 0.0887 - val_mae: 0.1884\n",
      "Epoch 17/100\n",
      "3686/3686 - 2s - loss: 0.0665 - mae: 0.1828 - val_loss: 0.0871 - val_mae: 0.2032\n",
      "Epoch 18/100\n",
      "3686/3686 - 2s - loss: 0.0631 - mae: 0.1818 - val_loss: 0.0722 - val_mae: 0.1768\n",
      "Epoch 19/100\n",
      "3686/3686 - 2s - loss: 0.0579 - mae: 0.1753 - val_loss: 0.0763 - val_mae: 0.1855\n",
      "Epoch 20/100\n",
      "3686/3686 - 2s - loss: 0.0640 - mae: 0.1843 - val_loss: 0.0906 - val_mae: 0.2135\n",
      "Epoch 21/100\n",
      "3686/3686 - 2s - loss: 0.0528 - mae: 0.1655 - val_loss: 0.0759 - val_mae: 0.1838\n",
      "Epoch 22/100\n",
      "3686/3686 - 2s - loss: 0.0531 - mae: 0.1669 - val_loss: 0.0931 - val_mae: 0.2018\n",
      "Epoch 23/100\n",
      "3686/3686 - 2s - loss: 0.0466 - mae: 0.1583 - val_loss: 0.0768 - val_mae: 0.1833\n",
      "Epoch 24/100\n",
      "3686/3686 - 2s - loss: 0.0480 - mae: 0.1574 - val_loss: 0.0872 - val_mae: 0.2110\n",
      "Epoch 25/100\n",
      "3686/3686 - 2s - loss: 0.0452 - mae: 0.1554 - val_loss: 0.0901 - val_mae: 0.1984\n",
      "Epoch 26/100\n",
      "3686/3686 - 2s - loss: 0.0428 - mae: 0.1515 - val_loss: 0.0919 - val_mae: 0.2048\n",
      "Epoch 27/100\n",
      "3686/3686 - 2s - loss: 0.0419 - mae: 0.1509 - val_loss: 0.0882 - val_mae: 0.2037\n",
      "Epoch 28/100\n",
      "3686/3686 - 2s - loss: 0.0422 - mae: 0.1505 - val_loss: 0.0794 - val_mae: 0.1861\n",
      "Epoch 29/100\n",
      "3686/3686 - 2s - loss: 0.0378 - mae: 0.1429 - val_loss: 0.0841 - val_mae: 0.1904\n",
      "Epoch 30/100\n",
      "3686/3686 - 2s - loss: 0.0441 - mae: 0.1507 - val_loss: 0.0883 - val_mae: 0.1972\n",
      "Epoch 31/100\n",
      "3686/3686 - 2s - loss: 0.0440 - mae: 0.1514 - val_loss: 0.0899 - val_mae: 0.1908\n",
      "Epoch 32/100\n",
      "3686/3686 - 2s - loss: 0.0435 - mae: 0.1536 - val_loss: 0.0807 - val_mae: 0.1729\n",
      "Epoch 33/100\n",
      "3686/3686 - 2s - loss: 0.0362 - mae: 0.1401 - val_loss: 0.0766 - val_mae: 0.1833\n",
      "Epoch 34/100\n",
      "3686/3686 - 2s - loss: 0.0397 - mae: 0.1446 - val_loss: 0.0791 - val_mae: 0.1819\n",
      "Epoch 35/100\n",
      "3686/3686 - 2s - loss: 0.0366 - mae: 0.1402 - val_loss: 0.0800 - val_mae: 0.1780\n",
      "Epoch 36/100\n",
      "3686/3686 - 2s - loss: 0.0343 - mae: 0.1361 - val_loss: 0.1152 - val_mae: 0.2305\n",
      "Epoch 37/100\n",
      "3686/3686 - 2s - loss: 0.0393 - mae: 0.1447 - val_loss: 0.0789 - val_mae: 0.1722\n",
      "Epoch 38/100\n",
      "3686/3686 - 2s - loss: 0.0334 - mae: 0.1345 - val_loss: 0.0798 - val_mae: 0.1790\n",
      "Epoch 39/100\n",
      "3686/3686 - 2s - loss: 0.0307 - mae: 0.1304 - val_loss: 0.0710 - val_mae: 0.1614\n",
      "Epoch 40/100\n",
      "3686/3686 - 2s - loss: 0.0307 - mae: 0.1300 - val_loss: 0.0750 - val_mae: 0.1709\n",
      "Epoch 41/100\n",
      "3686/3686 - 2s - loss: 0.0293 - mae: 0.1266 - val_loss: 0.0808 - val_mae: 0.1814\n",
      "Epoch 42/100\n",
      "3686/3686 - 2s - loss: 0.0287 - mae: 0.1224 - val_loss: 0.0805 - val_mae: 0.1845\n",
      "Epoch 43/100\n",
      "3686/3686 - 2s - loss: 0.0306 - mae: 0.1291 - val_loss: 0.0741 - val_mae: 0.1704\n",
      "Epoch 44/100\n",
      "3686/3686 - 2s - loss: 0.0293 - mae: 0.1265 - val_loss: 0.0695 - val_mae: 0.1623\n",
      "Epoch 45/100\n",
      "3686/3686 - 2s - loss: 0.0313 - mae: 0.1313 - val_loss: 0.0819 - val_mae: 0.1859\n",
      "Epoch 46/100\n",
      "3686/3686 - 2s - loss: 0.0299 - mae: 0.1272 - val_loss: 0.0770 - val_mae: 0.1773\n",
      "Epoch 47/100\n",
      "3686/3686 - 2s - loss: 0.0325 - mae: 0.1305 - val_loss: 0.0789 - val_mae: 0.1765\n",
      "Epoch 48/100\n",
      "3686/3686 - 2s - loss: 0.0303 - mae: 0.1275 - val_loss: 0.0735 - val_mae: 0.1683\n",
      "Epoch 49/100\n",
      "3686/3686 - 2s - loss: 0.0264 - mae: 0.1195 - val_loss: 0.0815 - val_mae: 0.1807\n",
      "Epoch 50/100\n",
      "3686/3686 - 2s - loss: 0.0284 - mae: 0.1243 - val_loss: 0.0767 - val_mae: 0.1749\n",
      "Epoch 51/100\n",
      "3686/3686 - 2s - loss: 0.0258 - mae: 0.1195 - val_loss: 0.0774 - val_mae: 0.1668\n",
      "Epoch 52/100\n",
      "3686/3686 - 2s - loss: 0.0287 - mae: 0.1242 - val_loss: 0.0761 - val_mae: 0.1781\n",
      "Epoch 53/100\n",
      "3686/3686 - 2s - loss: 0.0279 - mae: 0.1231 - val_loss: 0.0776 - val_mae: 0.1713\n",
      "Epoch 54/100\n",
      "3686/3686 - 2s - loss: 0.0320 - mae: 0.1292 - val_loss: 0.0877 - val_mae: 0.1886\n",
      "Epoch 55/100\n",
      "3686/3686 - 3s - loss: 0.0295 - mae: 0.1239 - val_loss: 0.0752 - val_mae: 0.1713\n",
      "Epoch 56/100\n",
      "3686/3686 - 2s - loss: 0.0262 - mae: 0.1180 - val_loss: 0.0765 - val_mae: 0.1610\n",
      "Epoch 57/100\n",
      "3686/3686 - 2s - loss: 0.0274 - mae: 0.1198 - val_loss: 0.0758 - val_mae: 0.1660\n",
      "Epoch 58/100\n",
      "3686/3686 - 2s - loss: 0.0270 - mae: 0.1199 - val_loss: 0.0896 - val_mae: 0.2039\n",
      "Epoch 59/100\n",
      "3686/3686 - 2s - loss: 0.0271 - mae: 0.1202 - val_loss: 0.0844 - val_mae: 0.1956\n",
      "Epoch 60/100\n",
      "3686/3686 - 3s - loss: 0.0238 - mae: 0.1146 - val_loss: 0.0819 - val_mae: 0.1731\n",
      "Epoch 61/100\n",
      "3686/3686 - 3s - loss: 0.0243 - mae: 0.1127 - val_loss: 0.0787 - val_mae: 0.1762\n",
      "Epoch 62/100\n",
      "3686/3686 - 2s - loss: 0.0245 - mae: 0.1141 - val_loss: 0.0727 - val_mae: 0.1674\n",
      "Epoch 63/100\n",
      "3686/3686 - 3s - loss: 0.0241 - mae: 0.1139 - val_loss: 0.0754 - val_mae: 0.1788\n",
      "Epoch 64/100\n",
      "3686/3686 - 2s - loss: 0.0236 - mae: 0.1115 - val_loss: 0.0755 - val_mae: 0.1643\n",
      "Epoch 65/100\n",
      "3686/3686 - 2s - loss: 0.0235 - mae: 0.1112 - val_loss: 0.0724 - val_mae: 0.1639\n",
      "Epoch 66/100\n",
      "3686/3686 - 2s - loss: 0.0214 - mae: 0.1078 - val_loss: 0.0734 - val_mae: 0.1606\n",
      "Epoch 67/100\n",
      "3686/3686 - 2s - loss: 0.0231 - mae: 0.1089 - val_loss: 0.0773 - val_mae: 0.1816\n",
      "Epoch 68/100\n",
      "3686/3686 - 2s - loss: 0.0240 - mae: 0.1142 - val_loss: 0.0756 - val_mae: 0.1718\n",
      "Epoch 69/100\n",
      "3686/3686 - 3s - loss: 0.0242 - mae: 0.1121 - val_loss: 0.0782 - val_mae: 0.1810\n",
      "Epoch 70/100\n",
      "3686/3686 - 3s - loss: 0.0272 - mae: 0.1199 - val_loss: 0.0704 - val_mae: 0.1630\n",
      "Epoch 71/100\n",
      "3686/3686 - 2s - loss: 0.0229 - mae: 0.1106 - val_loss: 0.0730 - val_mae: 0.1660\n",
      "Epoch 72/100\n",
      "3686/3686 - 2s - loss: 0.0229 - mae: 0.1078 - val_loss: 0.0640 - val_mae: 0.1549\n",
      "Epoch 73/100\n",
      "3686/3686 - 2s - loss: 0.0200 - mae: 0.1044 - val_loss: 0.0680 - val_mae: 0.1611\n",
      "Epoch 74/100\n",
      "3686/3686 - 2s - loss: 0.0221 - mae: 0.1075 - val_loss: 0.0750 - val_mae: 0.1665\n",
      "Epoch 75/100\n",
      "3686/3686 - 2s - loss: 0.0203 - mae: 0.1051 - val_loss: 0.0676 - val_mae: 0.1566\n",
      "Epoch 76/100\n",
      "3686/3686 - 2s - loss: 0.0186 - mae: 0.1021 - val_loss: 0.0742 - val_mae: 0.1624\n",
      "Epoch 77/100\n",
      "3686/3686 - 2s - loss: 0.0188 - mae: 0.0997 - val_loss: 0.0698 - val_mae: 0.1567\n",
      "Epoch 78/100\n",
      "3686/3686 - 3s - loss: 0.0193 - mae: 0.1026 - val_loss: 0.0735 - val_mae: 0.1590\n",
      "Epoch 79/100\n",
      "3686/3686 - 2s - loss: 0.0180 - mae: 0.0990 - val_loss: 0.0762 - val_mae: 0.1654\n",
      "Epoch 80/100\n",
      "3686/3686 - 3s - loss: 0.0188 - mae: 0.0996 - val_loss: 0.0662 - val_mae: 0.1535\n",
      "Epoch 81/100\n",
      "3686/3686 - 3s - loss: 0.0178 - mae: 0.0981 - val_loss: 0.0693 - val_mae: 0.1686\n",
      "Epoch 82/100\n",
      "3686/3686 - 2s - loss: 0.0189 - mae: 0.1002 - val_loss: 0.0731 - val_mae: 0.1651\n",
      "Epoch 83/100\n",
      "3686/3686 - 2s - loss: 0.0178 - mae: 0.0977 - val_loss: 0.0683 - val_mae: 0.1575\n",
      "Epoch 84/100\n",
      "3686/3686 - 2s - loss: 0.0180 - mae: 0.0984 - val_loss: 0.0669 - val_mae: 0.1568\n",
      "Epoch 85/100\n",
      "3686/3686 - 2s - loss: 0.0164 - mae: 0.0938 - val_loss: 0.0679 - val_mae: 0.1536\n",
      "Epoch 86/100\n",
      "3686/3686 - 2s - loss: 0.0175 - mae: 0.0972 - val_loss: 0.0783 - val_mae: 0.1760\n",
      "Epoch 87/100\n",
      "3686/3686 - 2s - loss: 0.0203 - mae: 0.1019 - val_loss: 0.0713 - val_mae: 0.1611\n"
     ]
    },
    {
     "name": "stdout",
     "output_type": "stream",
     "text": [
      "Epoch 88/100\n",
      "3686/3686 - 2s - loss: 0.0186 - mae: 0.0980 - val_loss: 0.0780 - val_mae: 0.1692\n",
      "Epoch 89/100\n",
      "3686/3686 - 2s - loss: 0.0215 - mae: 0.1019 - val_loss: 0.0775 - val_mae: 0.1716\n",
      "Epoch 90/100\n",
      "3686/3686 - 2s - loss: 0.0204 - mae: 0.1033 - val_loss: 0.0746 - val_mae: 0.1665\n",
      "Epoch 91/100\n",
      "3686/3686 - 2s - loss: 0.0179 - mae: 0.0966 - val_loss: 0.0746 - val_mae: 0.1659\n",
      "Epoch 92/100\n",
      "3686/3686 - 2s - loss: 0.0230 - mae: 0.1053 - val_loss: 0.0746 - val_mae: 0.1659\n",
      "Epoch 93/100\n",
      "3686/3686 - 2s - loss: 0.0212 - mae: 0.1044 - val_loss: 0.0796 - val_mae: 0.1679\n",
      "Epoch 94/100\n",
      "3686/3686 - 2s - loss: 0.0186 - mae: 0.0978 - val_loss: 0.0755 - val_mae: 0.1645\n",
      "Epoch 95/100\n",
      "3686/3686 - 3s - loss: 0.0178 - mae: 0.0954 - val_loss: 0.0731 - val_mae: 0.1642\n",
      "Epoch 96/100\n",
      "3686/3686 - 2s - loss: 0.0163 - mae: 0.0904 - val_loss: 0.0697 - val_mae: 0.1553\n",
      "Epoch 97/100\n",
      "3686/3686 - 2s - loss: 0.0157 - mae: 0.0907 - val_loss: 0.0748 - val_mae: 0.1663\n",
      "Epoch 98/100\n",
      "3686/3686 - 3s - loss: 0.0154 - mae: 0.0908 - val_loss: 0.0672 - val_mae: 0.1533\n",
      "Epoch 99/100\n",
      "3686/3686 - 2s - loss: 0.0139 - mae: 0.0868 - val_loss: 0.0691 - val_mae: 0.1558\n",
      "Epoch 100/100\n",
      "3686/3686 - 3s - loss: 0.0145 - mae: 0.0885 - val_loss: 0.0737 - val_mae: 0.1633\n"
     ]
    }
   ],
   "source": [
    "epochs = 100\n",
    "history = model.fit(x=X_train[:4096], y=y_train[:4096], batch_size=32, validation_split=0.1, verbose=2, epochs=epochs)"
   ]
  },
  {
   "cell_type": "markdown",
   "metadata": {},
   "source": [
    "## Visulaizing the training curves"
   ]
  },
  {
   "cell_type": "code",
   "execution_count": 15,
   "metadata": {},
   "outputs": [
    {
     "data": {
      "image/png": "[encoded data removed]",
      "text/plain": [
       "<Figure size 576x576 with 2 Axes>"
      ]
     },
     "metadata": {
      "needs_background": "light"
     },
     "output_type": "display_data"
    }
   ],
   "source": [
    "acc = history.history['mae']\n",
    "val_acc = history.history['val_mae']\n",
    "\n",
    "loss = history.history['loss']\n",
    "val_loss = history.history['val_loss']\n",
    "\n",
    "epochs_range = range(epochs)\n",
    "\n",
    "plt.figure(figsize=(8, 8))\n",
    "plt.subplot(1, 2, 1)\n",
    "plt.plot(epochs_range, acc, label='Training MAE')\n",
    "plt.plot(epochs_range, val_acc, label='Validation MAE')\n",
    "plt.legend(loc='upper right')\n",
    "plt.title('Training MAE')\n",
    "\n",
    "plt.subplot(1, 2, 2)\n",
    "plt.plot(epochs_range, loss, label='Training Loss')\n",
    "plt.plot(epochs_range, val_loss, label='Validation Loss')\n",
    "plt.legend(loc='upper right')\n",
    "plt.title('Training Loss')\n",
    "plt.show()\n",
    "\n"
   ]
  },
  {
   "cell_type": "markdown",
   "metadata": {},
   "source": [
    "## Predict"
   ]
  },
  {
   "cell_type": "code",
   "execution_count": 16,
   "metadata": {},
   "outputs": [
    {
     "name": "stdout",
     "output_type": "stream",
     "text": [
      "MAE for the prediction is 0.0816 eV/atom and loss is 0.0816\n"
     ]
    }
   ],
   "source": [
    "y_pred = model.predict(X_test[:256])\n",
    "\n",
    "mse = mean_squared_error(y_test[:256], y_pred)\n",
    "mae = mean_squared_error(y_test[:256], y_pred)\n",
    "\n",
    "print('MAE for the prediction is {0} eV/atom and loss is {1}'.format(round(mae, 4), round(mse, 4)))"
   ]
  },
  {
   "cell_type": "code",
   "execution_count": null,
   "metadata": {},
   "outputs": [],
   "source": []
  }
 ],
 "metadata": {
  "kernelspec": {
   "display_name": "Python 3",
   "language": "python",
   "name": "python3"
  },
  "language_info": {
   "codemirror_mode": {
    "name": "ipython",
    "version": 3
   },
   "file_extension": ".py",
   "mimetype": "text/x-python",
   "name": "python",
   "nbconvert_exporter": "python",
   "pygments_lexer": "ipython3",
   "version": "3.6.8"
  }
 },
 "nbformat": 4,
 "nbformat_minor": 2
}
